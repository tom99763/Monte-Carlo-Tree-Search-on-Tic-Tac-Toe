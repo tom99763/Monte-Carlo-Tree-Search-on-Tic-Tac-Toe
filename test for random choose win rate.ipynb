{
 "cells": [
  {
   "cell_type": "code",
   "execution_count": 5,
   "metadata": {},
   "outputs": [],
   "source": [
    "\n",
    "import gym\n",
    "from gym_tictactoe.env import TicTacToeEnv, agent_by_mark, next_mark\n",
    "from algorithm import MonteCarloTreeSearch\n",
    "from random import choice"
   ]
  },
  {
   "cell_type": "code",
   "execution_count": 6,
   "metadata": {},
   "outputs": [],
   "source": [
    "env = TicTacToeEnv()\n",
    "t = MonteCarloTreeSearch(6000, player='O')"
   ]
  },
  {
   "cell_type": "code",
   "execution_count": 7,
   "metadata": {},
   "outputs": [],
   "source": [
    "win=0\n",
    "draw=0\n",
    "loss=0\n",
    "for i in range(20):\n",
    "    s = env.reset()\n",
    "    while env.done == False:\n",
    "        if s[1] == 'O':\n",
    "            action = t.search(s, env)\n",
    "            s_, r, done, info = env.step(action)\n",
    "        else:\n",
    "            action = choice(env.available_actions())\n",
    "            s_, r, done, info = env.step(action)\n",
    "        s = s_\n",
    "    if r==1:\n",
    "        win+=1\n",
    "    elif r==0:\n",
    "        draw+=1\n",
    "    else:\n",
    "        loss+=1"
   ]
  },
  {
   "cell_type": "code",
   "execution_count": 8,
   "metadata": {},
   "outputs": [
    {
     "data": {
      "text/plain": [
       "20"
      ]
     },
     "execution_count": 8,
     "metadata": {},
     "output_type": "execute_result"
    }
   ],
   "source": [
    "win"
   ]
  },
  {
   "cell_type": "code",
   "execution_count": null,
   "metadata": {},
   "outputs": [],
   "source": []
  }
 ],
 "metadata": {
  "kernelspec": {
   "display_name": "Python 3",
   "language": "python",
   "name": "python3"
  },
  "language_info": {
   "codemirror_mode": {
    "name": "ipython",
    "version": 3
   },
   "file_extension": ".py",
   "mimetype": "text/x-python",
   "name": "python",
   "nbconvert_exporter": "python",
   "pygments_lexer": "ipython3",
   "version": "3.6.10"
  }
 },
 "nbformat": 4,
 "nbformat_minor": 4
}
